{
  "nbformat": 4,
  "nbformat_minor": 0,
  "metadata": {
    "colab": {
      "provenance": []
    },
    "kernelspec": {
      "name": "python3",
      "display_name": "Python 3"
    },
    "language_info": {
      "name": "python"
    }
  },
  "cells": [
    {
      "cell_type": "markdown",
      "source": [
        "Q1. Find shape of the Wisconsin breast cancer data's feature matrix (accessed from sklearn.datasets)"
      ],
      "metadata": {
        "id": "IHrKeiUm-KgJ"
      }
    },
    {
      "cell_type": "code",
      "execution_count": 1,
      "metadata": {
        "colab": {
          "base_uri": "https://localhost:8080/"
        },
        "id": "ynaHOfdtVg54",
        "outputId": "ac01f31c-57be-4b3d-cb2b-8460bcf301c0"
      },
      "outputs": [
        {
          "output_type": "execute_result",
          "data": {
            "text/plain": [
              "['sepal length (cm)',\n",
              " 'sepal width (cm)',\n",
              " 'petal length (cm)',\n",
              " 'petal width (cm)']"
            ]
          },
          "metadata": {},
          "execution_count": 1
        }
      ],
      "source": [
        "from sklearn.datasets import load_iris\n",
        "data = load_iris()\n",
        "data.feature_names"
      ]
    },
    {
      "cell_type": "markdown",
      "source": [
        "Q2. How many benign ( B ) tumour cases are present in the Wisconsin breast cancer dataset ?"
      ],
      "metadata": {
        "id": "FeeWV9yW-P0n"
      }
    },
    {
      "cell_type": "code",
      "source": [
        "from sklearn.datasets import load_breast_cancer\n",
        "\n",
        "# Load the dataset\n",
        "data = load_breast_cancer()\n",
        "\n",
        "# Access the feature matrix\n",
        "X = data.data\n",
        "\n",
        "# Get the shape of the feature matrix\n",
        "shape = X.shape\n",
        "\n",
        "print(\"Shape of the feature matrix:\", shape)\n"
      ],
      "metadata": {
        "colab": {
          "base_uri": "https://localhost:8080/"
        },
        "id": "gHEwXyDUV1zD",
        "outputId": "81a9e9d3-e039-4d4d-dc21-c1b4110083ba"
      },
      "execution_count": 2,
      "outputs": [
        {
          "output_type": "stream",
          "name": "stdout",
          "text": [
            "Shape of the feature matrix: (569, 30)\n"
          ]
        }
      ]
    },
    {
      "cell_type": "code",
      "source": [
        "from sklearn.datasets import load_breast_cancer\n",
        "\n",
        "# Load the dataset\n",
        "data = load_breast_cancer()\n",
        "\n",
        "# Access the target labels\n",
        "y = data.target\n",
        "\n",
        "# Count the number of benign cases (where y == 1)\n",
        "num_benign_cases = sum(y == 1)\n",
        "\n",
        "print(\"Number of benign tumor cases:\", num_benign_cases)\n"
      ],
      "metadata": {
        "colab": {
          "base_uri": "https://localhost:8080/"
        },
        "id": "er7cKKbtWYJ-",
        "outputId": "269205a0-bc4c-4f17-f252-0c89ac260f95"
      },
      "execution_count": 3,
      "outputs": [
        {
          "output_type": "stream",
          "name": "stdout",
          "text": [
            "Number of benign tumor cases: 357\n"
          ]
        }
      ]
    },
    {
      "cell_type": "markdown",
      "source": [
        "Q3. How many malignant ( M ) tumour cases are present in the Wisconsin breast cancer dataset."
      ],
      "metadata": {
        "id": "QJ9mqtQx-Unt"
      }
    },
    {
      "cell_type": "code",
      "source": [
        "from sklearn.datasets import load_breast_cancer\n",
        "\n",
        "# Load the dataset\n",
        "data = load_breast_cancer()\n",
        "\n",
        "# Access the target labels\n",
        "y = data.target\n",
        "\n",
        "# Count the number of malignant cases (where y == 0)\n",
        "num_malignant_cases = sum(y == 0)\n",
        "\n",
        "print(\"Number of malignant tumor cases:\", num_malignant_cases)\n"
      ],
      "metadata": {
        "colab": {
          "base_uri": "https://localhost:8080/"
        },
        "id": "6JM7GfErWkXP",
        "outputId": "05ddaf8d-2ed6-4e5c-a64e-01fc0cb8a7ab"
      },
      "execution_count": 4,
      "outputs": [
        {
          "output_type": "stream",
          "name": "stdout",
          "text": [
            "Number of malignant tumor cases: 212\n"
          ]
        }
      ]
    },
    {
      "cell_type": "markdown",
      "source": [
        "Instructions for Questions 4-6: Use the following code for importing California Housing dataset from sklearn. Also, name the dataset as housing_data and print description of the dataset.\n",
        "from sklearn.datasets import fetch_california_housing\n",
        "housing_data = fetch_california_housing()\n",
        "print(housing_data.DESCR)\n"
      ],
      "metadata": {
        "id": "LnWCg0S2-hsp"
      }
    },
    {
      "cell_type": "code",
      "source": [
        "from sklearn.datasets import fetch_california_housing\n",
        "housing_data = fetch_california_housing()\n",
        "print(housing_data.DESCR)"
      ],
      "metadata": {
        "colab": {
          "base_uri": "https://localhost:8080/"
        },
        "id": "MpcNjNAjWtAH",
        "outputId": "7a4ab282-8dbd-4576-c532-7d862b3b7574"
      },
      "execution_count": 6,
      "outputs": [
        {
          "output_type": "stream",
          "name": "stdout",
          "text": [
            ".. _california_housing_dataset:\n",
            "\n",
            "California Housing dataset\n",
            "--------------------------\n",
            "\n",
            "**Data Set Characteristics:**\n",
            "\n",
            "    :Number of Instances: 20640\n",
            "\n",
            "    :Number of Attributes: 8 numeric, predictive attributes and the target\n",
            "\n",
            "    :Attribute Information:\n",
            "        - MedInc        median income in block group\n",
            "        - HouseAge      median house age in block group\n",
            "        - AveRooms      average number of rooms per household\n",
            "        - AveBedrms     average number of bedrooms per household\n",
            "        - Population    block group population\n",
            "        - AveOccup      average number of household members\n",
            "        - Latitude      block group latitude\n",
            "        - Longitude     block group longitude\n",
            "\n",
            "    :Missing Attribute Values: None\n",
            "\n",
            "This dataset was obtained from the StatLib repository.\n",
            "https://www.dcc.fc.up.pt/~ltorgo/Regression/cal_housing.html\n",
            "\n",
            "The target variable is the median house value for California districts,\n",
            "expressed in hundreds of thousands of dollars ($100,000).\n",
            "\n",
            "This dataset was derived from the 1990 U.S. census, using one row per census\n",
            "block group. A block group is the smallest geographical unit for which the U.S.\n",
            "Census Bureau publishes sample data (a block group typically has a population\n",
            "of 600 to 3,000 people).\n",
            "\n",
            "A household is a group of people residing within a home. Since the average\n",
            "number of rooms and bedrooms in this dataset are provided per household, these\n",
            "columns may take surprisingly large values for block groups with few households\n",
            "and many empty houses, such as vacation resorts.\n",
            "\n",
            "It can be downloaded/loaded using the\n",
            ":func:`sklearn.datasets.fetch_california_housing` function.\n",
            "\n",
            ".. topic:: References\n",
            "\n",
            "    - Pace, R. Kelley and Ronald Barry, Sparse Spatial Autoregressions,\n",
            "      Statistics and Probability Letters, 33 (1997) 291-297\n",
            "\n"
          ]
        }
      ]
    },
    {
      "cell_type": "markdown",
      "source": [
        "Q4.\n",
        "Find out the shape of the feature matrix in california housing dataset."
      ],
      "metadata": {
        "id": "LgrvA6Ze-rly"
      }
    },
    {
      "cell_type": "code",
      "source": [
        "data = fetch_california_housing()\n",
        "\n",
        "# Access the feature matrix\n",
        "X = data.data\n",
        "\n",
        "# Get the shape of the feature matrix\n",
        "shape = X.shape\n",
        "\n",
        "print(\"Shape of the feature matrix:\", shape)"
      ],
      "metadata": {
        "colab": {
          "base_uri": "https://localhost:8080/"
        },
        "id": "GlwueBTLXQ9h",
        "outputId": "a36e04c6-9f99-4540-ffb8-c7c0a4f34bb5"
      },
      "execution_count": 7,
      "outputs": [
        {
          "output_type": "stream",
          "name": "stdout",
          "text": [
            "Shape of the feature matrix: (20640, 8)\n"
          ]
        }
      ]
    },
    {
      "cell_type": "markdown",
      "source": [
        "Q5. Find out the labels of the first five attributes in california housing dataset. Note, the labels are real-valued."
      ],
      "metadata": {
        "id": "CUHYhBaS-weG"
      }
    },
    {
      "cell_type": "code",
      "source": [
        "from sklearn.datasets import fetch_california_housing\n",
        "\n",
        "# Load the dataset\n",
        "data = fetch_california_housing()\n",
        "\n",
        "# Access the target labels\n",
        "y = data.target[:5]  # Get the first five labels\n",
        "\n",
        "print(\"Labels of the first five attributes:\")\n",
        "print(y)"
      ],
      "metadata": {
        "colab": {
          "base_uri": "https://localhost:8080/"
        },
        "id": "_OWRrVJvXfaU",
        "outputId": "589738c5-f389-4a01-b0a5-a8478c3c3d22"
      },
      "execution_count": 8,
      "outputs": [
        {
          "output_type": "stream",
          "name": "stdout",
          "text": [
            "Labels of the first five attributes:\n",
            "[4.526 3.585 3.521 3.413 3.422]\n"
          ]
        }
      ]
    },
    {
      "cell_type": "markdown",
      "source": [
        "Q6. Find out the name of the class label in california housing dataset(target matrix)?"
      ],
      "metadata": {
        "id": "F2yGOMbl-29t"
      }
    },
    {
      "cell_type": "markdown",
      "source": [
        "Ans: Class label shall be ['MedHouseVal']"
      ],
      "metadata": {
        "id": "vitFFxLB_vpX"
      }
    },
    {
      "cell_type": "code",
      "source": [],
      "metadata": {
        "id": "bUJmwrJx_uey"
      },
      "execution_count": null,
      "outputs": []
    }
  ]
}